{
 "cells": [
  {
   "cell_type": "markdown",
   "id": "3eacb633",
   "metadata": {},
   "source": [
    "#  Python script for integers 1 to 10"
   ]
  },
  {
   "cell_type": "code",
   "execution_count": 1,
   "id": "075661ef",
   "metadata": {},
   "outputs": [
    {
     "name": "stdout",
     "output_type": "stream",
     "text": [
      "1\n",
      "2\n",
      "3\n",
      "4\n",
      "5\n",
      "6\n",
      "7\n",
      "8\n",
      "9\n",
      "10\n"
     ]
    }
   ],
   "source": [
    "for x in range(1,11):\n",
    "    print (x)"
   ]
  },
  {
   "cell_type": "markdown",
   "id": "690a89ef",
   "metadata": {},
   "source": [
    "Steps:\n",
    "    1) set x to variables 1 to 10 using \"range(1,11)\" since python starts counting from 10\n",
    "    2) \"print (x)\" is to print out all variables of x"
   ]
  }
 ],
 "metadata": {
  "kernelspec": {
   "display_name": "Python 3 (ipykernel)",
   "language": "python",
   "name": "python3"
  },
  "language_info": {
   "codemirror_mode": {
    "name": "ipython",
    "version": 3
   },
   "file_extension": ".py",
   "mimetype": "text/x-python",
   "name": "python",
   "nbconvert_exporter": "python",
   "pygments_lexer": "ipython3",
   "version": "3.11.4"
  }
 },
 "nbformat": 4,
 "nbformat_minor": 5
}
